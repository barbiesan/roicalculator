{
 "cells": [
  {
   "cell_type": "code",
   "execution_count": 2,
   "id": "bcee4027",
   "metadata": {},
   "outputs": [
    {
     "name": "stdout",
     "output_type": "stream",
     "text": [
      "<__main__.Investment_roi object at 0x7fcda0016100>\n",
      "what is your monthly gross income?5000\n",
      "Here is your gross income: 5000\n",
      "Add your expense as a number, or enter 'q' to quit.\n",
      "what are your expenses? For example, vac rate, NNN fees, mortage, utilites?2000\n",
      "Add your expense as a number, or enter 'q' to quit.\n",
      "what are your expenses? For example, vac rate, NNN fees, mortage, utilites?100\n",
      "Add your expense as a number, or enter 'q' to quit.\n",
      "what are your expenses? For example, vac rate, NNN fees, mortage, utilites?500\n",
      "Add your expense as a number, or enter 'q' to quit.\n",
      "what are your expenses? For example, vac rate, NNN fees, mortage, utilites?70\n",
      "Add your expense as a number, or enter 'q' to quit.\n",
      "what are your expenses? For example, vac rate, NNN fees, mortage, utilites?q\n",
      "Here is your current expenses list: [2000, 100, 500, 70].\n",
      "5000\n",
      "2670\n",
      "Here is my ROI for this property: 87.26591760299625\n"
     ]
    }
   ],
   "source": [
    "class Investment_roi():\n",
    "    def __init__(self,income=0,expenses=0,total_costs=0):\n",
    "        self.income = (income)\n",
    "        self.expenses = (expenses)\n",
    "        self.total_costs = total_costs\n",
    "        \n",
    "    def gross_income(self):\n",
    "        gross_income= input('what is your monthly gross income?')\n",
    "        self.income = gross_income\n",
    "        print(f'Here is your gross income: {self.income}')\n",
    "\n",
    "    def expenses_method(self):\n",
    "        expenses_item=input('what are your expenses? For example, vac rate, NNN fees, mortage, utilites?')\n",
    "        return expenses_item\n",
    "    \n",
    "    def total_expense(self):\n",
    "        expenses_list = []\n",
    "        running = True\n",
    "        while running == True:\n",
    "            print('Add your expense as a number, or enter \\'q\\' to quit.')\n",
    "            listItem = self.expenses_method()\n",
    "            if listItem == 'q':\n",
    "                print(f'Here is your current expenses list: {expenses_list}.')\n",
    "                running = False\n",
    "                break\n",
    "            else:\n",
    "                listItem = int(listItem)\n",
    "                expensesList.append(listItem)\n",
    "        self.total_costs = sum(expenses_list)\n",
    "\n",
    "my_property = Investment_roi()\n",
    "print(my_property)\n",
    "\n",
    "my_property.gross_income()\n",
    "my_property.total_expense()\n",
    "\n",
    "print(my_property.income)\n",
    "print(my_property.total_costs)\n",
    "\n",
    "roi = (int(my_property.income) - int(my_property.total_costs)) / int(my_property.total_costs) * 100\n",
    "print(f'Here is my ROI for this property: {roi}')\n",
    "\n",
    "    \n",
    "# for expense in gross_income:\n",
    "# roi= int(gross_income)['gross income']- int(total_expenses)['total_expenses']/int(total_expenses)['total_expenses']*100\n",
    "# roi= int(gross_income)- int(total_expenses)/int(total_expenses)*100\n",
    "# print(roi)\n",
    "    \n",
    "              \n"
   ]
  },
  {
   "cell_type": "markdown",
   "id": "834e1c30",
   "metadata": {},
   "source": [
    "## "
   ]
  }
 ],
 "metadata": {
  "kernelspec": {
   "display_name": "Python 3 (ipykernel)",
   "language": "python",
   "name": "python3"
  },
  "language_info": {
   "codemirror_mode": {
    "name": "ipython",
    "version": 3
   },
   "file_extension": ".py",
   "mimetype": "text/x-python",
   "name": "python",
   "nbconvert_exporter": "python",
   "pygments_lexer": "ipython3",
   "version": "3.9.7"
  }
 },
 "nbformat": 4,
 "nbformat_minor": 5
}
